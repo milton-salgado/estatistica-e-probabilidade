{
 "cells": [
  {
   "cell_type": "markdown",
   "metadata": {
    "id": "tKAcyAOyW8W0"
   },
   "source": [
    "# Estatística & Probabilidade - 2024/01\n",
    "\n",
    "## Projeto 01 - Calculando probabilidades com simulação estocástica\n",
    "\n",
    "### Hugo Tremonte de Carvalho\n",
    "\n",
    "#### hugo@dme.ufrj.br\n",
    "\n",
    "#### Google Classroom: `654q7wf`\n",
    "\n",
    "### Milton Salgado Leandro\n",
    "\n",
    "#### DRE: 122169279\n",
    "\n",
    "### Pedro Henrique Honorio Saito\n",
    "\n",
    "#### DRE: 122149392"
   ]
  },
  {
   "cell_type": "markdown",
   "metadata": {
    "id": "LsmMcxGPW8W1"
   },
   "source": [
    "# ⚠️ INSTRUÇÕES ⚠️ LEIAM ATENTAMENTE! ⚠️"
   ]
  },
  {
   "cell_type": "markdown",
   "metadata": {
    "id": "aSV-VmQvW8W2"
   },
   "source": [
    "* A data limite de entrega da avaliação é sábado 07/05/2024 às 23h59. Avaliações entregues após esse prazo serão desconsideradas.\n",
    "\n",
    "* A entrega deve ser feita exclusivamente através do Google Classroom, usando a linguagem Python dentro de um notebook do Google Colaboratory, exibindo os *outputs* de cada célula, a ser anexado na atividade da seguinte forma:\n",
    "  - Dentro da turma no Google Classroom, clique em \"Atividades\"\n",
    "            \n",
    "  - No tema \"Projetos\", clique em \"Projeto 01\" e em seguida em \"Ver atividade\"\n",
    "            \n",
    "  - No canto superior direito, clique em \"+ Adicionar ou criar\" e em seguida selecione em \"Arquivo\" ou \"Google Drive\", se optar fazer upload do notebook ou selecionar um arquivo de seu Google Drive, respectivamente.\n",
    "            \n",
    "  - O título do notebook deverá ser, obrigatoriamente, \"SEU NOME - Projeto 01\".\n",
    "            \n",
    "  - Para entregar o projeto, abra a atividade que o contém (conforme procedimento explicado no ponto acima), e no canto superior direito clique em \"ENTREGAR\" (o texto estará em uma caixa cinza, mas ele é clicável).\n",
    "            \n",
    "  - Na tela a seguir clique em \"Entregar\" para confirmar a entrega do trabalho.\n",
    "            \n",
    "  - Se você se arrependeu e quiser fazer outra entrega, basta abrir a atividade, no canto superior direito clique em \"Cancelar envio\" e confirme clicando novamente em \"Cancelar envio\" na janela que irá abrir. Você pode fazer isso quantas vezes quiser até o prazo determinado.\n",
    "            \n",
    "  - As explicações que você precisará fazer devem ser feitas em células de texto em seu notebook. Somente comentários pequenos devem ser feitos no código.\n",
    "            \n",
    "  - Caso seja necessário, equações podem ser introduzidas em $\\LaTeX$ nas células de texto.\n",
    "            \n",
    "  - Figuras também podem ser incluídas em células de texto, tanto através de upload quanto simplesmente arrastando-a para alguma célula de texto. Nesse caso, sempre informe a fonte de onde a figura foi retirada, caso não tenha sido gerada por você.\n",
    "\n",
    "* O projeto poderá ser feito **até** em dupla: quem quer fazer sozinho/a faz, mas quem quiser fazer em dupla também tem esse direito. Porém, vamos evitar problemas de \"eu fiz tudo e ele/a não fez nada\"! Infelizmente não tenho como controlar isso, e após o projeto entregue não adianta \"eu fiz tudo sozinho/a\", pois eu não estava lá para ver! Tentem se resolver entre si, mas em último caso posso auxiliar com uma mediação.\n",
    "\n",
    "* No caso de trabalho em dupla, apenas **uma** pessoa da dupla deverá fazer o envio do trabalho, claro, deixando explícito quem é o/a parceiro/a.\n",
    "\n",
    "* A troca de conhecimento na realização da avaliação é permitida e encorajada: ciência se faz com colaboração, e devemos seguir esse espírito aqui. Porém, cada dupla (ou indivíduo) deverá ter a sua própria resolução, e cópias ou outras ilegalidades serão severamente punidas com a anulação da avaliação para o(s) aluno(s) suspeito(s).\n",
    "\n",
    "* Todos os passos de sua resolução devem ser devidamente justificados.\n",
    "\n",
    "* Ao entregar essa avaliação, você afirma ter lido e estar de acordo com essas regras, comprometendo-se a cumpri-las."
   ]
  },
  {
   "cell_type": "markdown",
   "metadata": {
    "id": "DLypPchqnhoc"
   },
   "source": [
    "# O projeto"
   ]
  },
  {
   "cell_type": "markdown",
   "metadata": {
    "id": "FHI5n8V3nw19"
   },
   "source": [
    "O objetivo da atividade é que vocês calculem algumas probabilidades através de simulação estocástica, ou seja, através de um grande número de sorteios aleatórios devidamente projetados para calcular a probabilidade desejada. Algumas dessas probabilidades podem ser calculadas analiticamente com certa facilidade, mas em outros pode ser **bem** difícil (ou mesmo impossível). Dessa forma, o cálculo de probabilidades através de simulação estocástica pode ser tanto uma ferramenta fundamental para resolver algum problema ou para te dar alguma intuição, te guiando para o resultado analítico. Em alguns momentos vocês deverão justificar teoricamente os resultados obtidos, pois senão, não tem graça! 😁"
   ]
  },
  {
   "cell_type": "code",
   "execution_count": 17,
   "metadata": {},
   "outputs": [],
   "source": [
    "import numpy as np\n",
    "import math as m"
   ]
  },
  {
   "cell_type": "markdown",
   "metadata": {
    "id": "6jbjorsno16i"
   },
   "source": [
    "## Questão 1: Verificando um resultado pouco intuitivo"
   ]
  },
  {
   "cell_type": "markdown",
   "metadata": {
    "id": "nscY444bo5vb"
   },
   "source": [
    "No *slide* 38 de nosso material, resolvemos o seguinte problema, que tem um resultado pouco intuitivo:\n",
    " \n",
    "*Alguém rola dois dados honestos, sem que você veja. Você pergunta a esta pessoa se houve um seis entre os dois lançamentos e ela responde, honestamente, \"sim\". Qual é a probabilidade que os dois dados rolaram seis?*\n",
    "\n",
    "Utilizando geração de números aleatórios, faça uma simulação para estimar o valor dessa probabilidade e compare com o resultado obtido em sala de aula. Talvez você precise de \"muitas\" tentativas para ter uma boa estimativa. O quão grande você acha que \"muitas\" deve ser?"
   ]
  },
  {
   "cell_type": "code",
   "execution_count": 18,
   "metadata": {},
   "outputs": [],
   "source": [
    "def rolagem_de_dois_dados(numero_de_tentativas = 100000):\n",
    "    contagem_pelo_menos_um_seis = 0\n",
    "    contagem_dois_seis = 0\n",
    "\n",
    "    for numero_de_tentativa in range(numero_de_tentativas):\n",
    "        dado1 = np.random.randint(1, 7)\n",
    "        dado2 = np.random.randint(1, 7)\n",
    "    \n",
    "        if dado1 == 6 or dado2 == 6:\n",
    "            contagem_pelo_menos_um_seis += 1\n",
    "            if dado1 == 6 and dado2 == 6:\n",
    "                contagem_dois_seis += 1\n",
    "                \n",
    "    return contagem_dois_seis, contagem_pelo_menos_um_seis"
   ]
  },
  {
   "cell_type": "code",
   "execution_count": 19,
   "metadata": {
    "ExecuteTime": {
     "end_time": "2024-04-28T15:33:11.864014Z",
     "start_time": "2024-04-28T15:33:11.434985Z"
    }
   },
   "outputs": [
    {
     "name": "stdout",
     "output_type": "stream",
     "text": [
      "A probabilidade estimada é de aproximadamente 0.0909 ou 9.09%.\n",
      "A probabilidade obtida é de aproximadamente 0.0909 ou 9.09%.\n",
      "A probabilidade estimada é próxima da probabilidade obtida.\n"
     ]
    }
   ],
   "source": [
    "contagem_dois_seis, contagem_pelo_menos_um_seis = rolagem_de_dois_dados(numero_de_tentativas = 1000000)\n",
    "\n",
    "probabilidade_estimada = contagem_dois_seis / contagem_pelo_menos_um_seis\n",
    "probabilidade_obtida = 1 / 11\n",
    "\n",
    "print(f\"A probabilidade estimada é de aproximadamente {probabilidade_estimada:.4f} ou {probabilidade_estimada * 100:.2f}%.\")\n",
    "print(f\"A probabilidade obtida é de aproximadamente {probabilidade_obtida:.4f} ou {probabilidade_obtida * 100:.2f}%.\")\n",
    "\n",
    "if m.isclose(probabilidade_estimada * 100, probabilidade_obtida * 100, rel_tol = 0.05):\n",
    "    print(\"A probabilidade estimada é próxima da probabilidade obtida.\")"
   ]
  },
  {
   "cell_type": "markdown",
   "metadata": {},
   "source": [
    "Com $1000000$ tentativas, a probabilidade estimada de que os dois dados rolaram seis é de aproximadamente $0.0909$ ou $9.09$%, que é um valor bem próximo da probabilidade obtida de aproximadamente $0.0909$ ou $9.09$%.\n",
    "\n",
    "Em geral, quanto maior o número de tentativas, mais precisa será a estimativa. A lei dos grandes números (assunto do tópico \"Variáveis Aleatórias\") afirma que, à medida que o número de tentativas aumenta, a média dos resultados obtidos se aproxima da média esperado.\n",
    "\n",
    "No caso da **Questão 1**, um número na casa dos 10000 é geralmente suficiente para obter uma estimativa razoavelmente precisa. Isso ocorre porque a rolagem de dados é um processo aleatório com uma distribuição de probabilidade bem definida e relativamente simples.\n",
    "\n",
    "No entanto, como veremos no próximo tópico, para processos mais complexos ou com maior variabilidade, pode ser necessário um número maior de tentativas."
   ]
  },
  {
   "cell_type": "markdown",
   "metadata": {
    "id": "LaL7ZvrFqrGd"
   },
   "source": [
    "## Questão 2: O problema de Monty Hall"
   ]
  },
  {
   "cell_type": "markdown",
   "metadata": {
    "id": "QOr2y6H6rASi"
   },
   "source": [
    "Em um famoso programa de televisão da década de 70 nos Estados Unidos, Monty Hall, o apresentador, apresentava três portas aos concorrentes. Atrás de uma delas estava um prêmio e, atrás das outras duas não havia nada. A interação se dava em três etapas:\n",
    "\n",
    "* Na 1a. etapa o concorrente escolhe uma das três portas (que ainda não é aberta);\n",
    "* Na 2a. etapa, Monty abre uma das outras duas portas que o concorrente não escolheu, revelando que o prêmio não se encontra nessa porta e revelando uma porta vazia (note que o apresentador **sempre** irá abrir uma porta que está vazia, e **nunca** a porta com o prêmio);\n",
    "* Na 3a. etapa Monty pergunta ao concorrente se quer decidir permanecer com a porta que escolheu no início do jogo ou se ele pretende mudar para a outra porta que ainda está fechada para então a abrir. Agora, com duas portas apenas para escolher — pois uma delas já se viu, na 2a. etapa, que não tinha o prêmio — e sabendo que o prêmio está atrás de uma das restantes duas, o concorrente tem que tomar a decisão.\n",
    "\n",
    "O objetivo dessa questão é estudar qual é a estratégia mais lógica: ficar com a porta escolhida inicialmente ou mudar de porta? Do ponto de vista probablístico, com qual das duas portas ainda fechadas o concorrente tem mais probabilidades de ganhar?"
   ]
  },
  {
   "cell_type": "code",
   "execution_count": 20,
   "metadata": {},
   "outputs": [],
   "source": [
    "def problema_de_monty_hall(numero_de_tentativas = 100000, trocar_porta = True):\n",
    "    contagem_vitorias = 0\n",
    "    \n",
    "    for numero_de_tentativa in range(numero_de_tentativas):\n",
    "        porta_premiada = np.random.randint(3)\n",
    "        porta_escolhida = np.random.randint(3)\n",
    "\n",
    "        porta_aberta = np.random.choice([porta for porta in range(3) if porta != porta_escolhida and porta != porta_premiada])\n",
    "\n",
    "        if trocar_porta:\n",
    "            porta_escolhida = next(porta for porta in range(3) if porta != porta_aberta and porta != porta_escolhida)\n",
    "            \n",
    "        if porta_escolhida == porta_premiada:\n",
    "            contagem_vitorias += 1\n",
    "        \n",
    "    return contagem_vitorias, numero_de_tentativas"
   ]
  },
  {
   "cell_type": "markdown",
   "metadata": {
    "id": "RY65vLyfwNnN"
   },
   "source": [
    "a) Talvez você já saiba a resposta para esse problema, uma vez que ele é bem famoso, mas não tem problema! Faça simulações para encontrar qual é o melhor cenário para o participante: manter sua escolha inicial ou mudar de porta. Justifique, **intuitivamente** (ou seja, **sem fazer contas**) porque essa escolha é razoável."
   ]
  },
  {
   "cell_type": "code",
   "execution_count": 26,
   "metadata": {
    "ExecuteTime": {
     "end_time": "2024-04-28T15:33:13.424954Z",
     "start_time": "2024-04-28T15:33:11.864997Z"
    }
   },
   "outputs": [
    {
     "name": "stdout",
     "output_type": "stream",
     "text": [
      "A probabilidade estimada de vitória mudando de porta é de aproximadamente 0.6674 ou 66.74%.\n",
      "A probabilidade obtida de vitória mudando de porta é de aproximadamente 0.6667 ou 66.67%.\n",
      "A probabilidade estimada é próxima da probabilidade obtida.\n",
      "\n",
      "A probabilidade estimada de vitória não mudando de porta é de aproximadamente 0.3333 ou 33.33%.\n",
      "A probabilidade obtida de vitória não mudando de porta é de aproximadamente 0.3333 ou 33.33%.\n",
      "A probabilidade estimada é próxima da probabilidade obtida.\n"
     ]
    }
   ],
   "source": [
    "contagem_vitorias, numero_de_tentativas = problema_de_monty_hall(numero_de_tentativas = 100000, trocar_porta = True)\n",
    "\n",
    "probabilidade_estimada = contagem_vitorias / numero_de_tentativas\n",
    "probabilidade_obtida = 2 / 3\n",
    "\n",
    "print(f\"A probabilidade estimada de vitória mudando de porta é de aproximadamente {probabilidade_estimada:.4f} ou {probabilidade_estimada * 100:.2f}%.\")\n",
    "print(f\"A probabilidade obtida de vitória mudando de porta é de aproximadamente {probabilidade_obtida:.4f} ou {probabilidade_obtida * 100:.2f}%.\")\n",
    "\n",
    "if m.isclose(probabilidade_estimada * 100, probabilidade_obtida * 100, rel_tol = 0.05):\n",
    "    print(\"A probabilidade estimada é próxima da probabilidade obtida.\\n\")\n",
    "\n",
    "contagem_vitorias, numero_de_tentativas = problema_de_monty_hall(numero_de_tentativas = 100000, trocar_porta = False)\n",
    "\n",
    "probabilidade_estimada = contagem_vitorias / numero_de_tentativas\n",
    "probabilidade_obtida = 1 / 3\n",
    "\n",
    "print(f\"A probabilidade estimada de vitória não mudando de porta é de aproximadamente {probabilidade_estimada:.4f} ou {probabilidade_estimada * 100:.2f}%.\")\n",
    "print(f\"A probabilidade obtida de vitória não mudando de porta é de aproximadamente {probabilidade_obtida:.4f} ou {probabilidade_obtida * 100:.2f}%.\")\n",
    "\n",
    "if m.isclose(probabilidade_estimada * 100, probabilidade_obtida * 100, rel_tol = 0.05):\n",
    "    print(\"A probabilidade estimada é próxima da probabilidade obtida.\")"
   ]
  },
  {
   "cell_type": "markdown",
   "metadata": {
    "id": "ZLMuLgq3wrjJ"
   },
   "source": [
    "Com $100000$ tentativas, a probabilidade estimada de ganhar o prêmio ao mudar de porta é de aproximadamente $0.6674$ ou $66.74$%, um valor bem próximo da probabilidade teórica de $0.6667$ ou $66.67$%, enquanto a probabilidade estimada de ganhar o prêmio ao não mudar de porta é de aproximadamente $0.3333$ ou $33.33$%, um valor bem próximo da probabilidade teórica de $0.3333$ ou $33.33$%. Portanto, a estratégia mais lógica é mudar de porta.\n",
    "\n",
    "Portanto, a estratégia mais lógica é mudar de porta. \n",
    "\n",
    "A princípio, quando o participante escolhe uma das portas, a probabilidade de ganhar o prêmio é de $\\dfrac{1}{3}$. Portanto, as outras duas portas que não escondem o prêmio têm uma probabilidade de $\\dfrac{2}{3}$, em conjunto, de esconderem o prêmio.\n",
    "\n",
    "Apesar de Monty abrir uma porta que não esconde o prêmio, não existe nenhuma razão para que essa probabilidade mude. Quando uma dessas portas é aberta (por não esconder o prêmio), a porta que não foi escolhida e continua fechada passa a acumular a probabilidade de $\\dfrac{2}{3}$ (que antes era dividida entre essa e a porta que foi aberta pelo apresentador) de esconder o prêmio.\n",
    "\n",
    "Portanto, a estratégia mais lógica é mudar de porta, pois a probabilidade de ganhar o prêmio é de $\\dfrac{2}{3}$, enquanto a probabilidade de ganhar o prêmio ao não mudar de porta é de $\\dfrac{1}{3}$."
   ]
  },
  {
   "cell_type": "markdown",
   "metadata": {
    "id": "i9P5y-aBw31c"
   },
   "source": [
    "b) Agora sim, justifique fazendo as contas a probabilidade encontrada no item a)."
   ]
  },
  {
   "cell_type": "markdown",
   "metadata": {},
   "source": [
    "Podemos utilizar o Teorema de Bayes para calcular a probabilidade de ganhar o prêmio ao mudar de porta. \n",
    "\n",
    "Inicialmente, vamos supor que o participante escolha a porta 1 (o mesmo raciocínio vale para as portas 2 e 3, sem perda de generalidade).\n",
    "\n",
    "Seja $C_{i}, i = 1, 2, 3$ o evento de que o prêmio está atrás da i-ésima porta e $A{j}, j = 1, 2, 3 \\land j \\neq i $ o evento de que Monty abre a j-ésima porta. \n",
    "\n",
    "Queremos calcular a probabilidade de $C_{i}$ dado $A{j}$, ou seja, $P(C_{i}|A_{j})$. \n",
    "\n",
    "Vamos supor que o apresentador abriu a porta $3$ ($A_{3})$.\n",
    "\n",
    "Inicialmente, a probabilidade de escolha da porta escondendo o prêmio para cada uma das portas é de $\\dfrac{1}{3}$. Portanto, temos:\n",
    "\n",
    "- $P(C_{1}) = P(C_{2}) = P(C_{3}) = \\dfrac{1}{3}$\n",
    "\n",
    "Agora, vamos calcular as probabilidades de Monty abrir a porta $3$. As probabilidades do apresentador abrir a porta 3 em cada cenário são:\n",
    "\n",
    "- $P(A_{3} | C_{1}) = \\dfrac{1}{2}$ (Neste caso ele pode abrir a porta $2$ ou a porta $3$, ao acaso.);\n",
    "\n",
    "- $(A_{3} | C_{2}) = 1$ (Neste caso, Monty não pode abrir a porta $3$ pois ela esconde o prêmio, e nem a porta $1$ pois ela já foi escolhida pelo participante.);\n",
    "\n",
    "- $P(A_{3} | C_{3}) = 0$ (Neste caso, Monty não pode abrir a porta $3$ pois ela esconde o prêmio);\n",
    "\n",
    "Pela Lei da Probabilidade Total, a probabilidade de Monty abrir a porta $3$ ($P(A_{3}$) é:\n",
    "\n",
    "- $P(A_{3}) = P(A_{3} | C_{1}) \\cdot P(C_{1}) + P(A_{3} | C_{2}) \\cdot P(C_{2}) + P(A_{3} | C_{3}) \\cdot P(C_{3}) = \\dfrac{1}{2} \\cdot \\dfrac{1}{3} + 1 \\cdot \\dfrac{1}{3} + 0 \\cdot \\dfrac{1}{3} = \\dfrac{2}{6} = \\dfrac{1}{2}$\n",
    "\n",
    "Vamos agora calcular a probabilidade do participante ganhar mantendo a escolha da porta $1$ ($P(C_{1} | A_{3})$), ou mudando a escolha para a porta $2$ ($P(C_{2} | A_{3})$), utilizando o Teorema de Bayes:\n",
    "\n",
    "- $P(C_{1} | A_{3}) = \\dfrac{P(A_{3} | C_{1}) \\cdot P(C_{1})}{P(A_{3})} = \\dfrac{\\dfrac{1}{2} \\cdot \\dfrac{1}{3}}{\\dfrac{1}{2}} = \\dfrac{1}{3}$\n",
    "\n",
    "- $P(C_{2} | A_{3}) = \\dfrac{P(A_{3} | C_{2}) \\cdot P(C_{2})}{P(A_{3})} = \\dfrac{1 \\cdot \\dfrac{1}{3}}{\\dfrac{1}{2}} = \\dfrac{2}{3}$\n",
    "\n",
    "Portanto, a probabilidade de ganhar o prêmio ao mudar de porta é de $\\dfrac{2}{3}$, enquanto a probabilidade de ganhar o prêmio ao não mudar de porta é de $\\dfrac{1}{3}$, como esperado."
   ]
  },
  {
   "cell_type": "markdown",
   "metadata": {
    "id": "O5OXB7gtxKCL"
   },
   "source": [
    "## Questão 3: Jogo da velha aleatório"
   ]
  },
  {
   "cell_type": "markdown",
   "metadata": {
    "id": "IvZ5zfcTxVYx"
   },
   "source": [
    "Iremos estimar uma probabilidade cujo cálculo analítico é bem mais complexo. Suponha que dois jogadores joguem jogo da velha porém com uma estratégia um pouco exótica: cada jogador escolhe a casa onde irá marcar $\\times$ ou $\\circ$ uniformemente dentre as casas vazias. Exemplificando, o primeiro jogador marca $\\times$ em uma das 9 casas com igual probabilidade; o segundo marca $\\circ$ em uma das 8 casas restantes com igual probabilidade; e assim sucessivamente até algum jogador ganhar (linha, coluna ou diagonal completa com $\\times$ ou $\\circ$) ou empatar (todas as células preenchidas porém sem nenhuma linha nem coluna nem diagonal completa com $\\times$ ou $\\circ$)."
   ]
  },
  {
   "cell_type": "code",
   "execution_count": 28,
   "metadata": {},
   "outputs": [],
   "source": [
    "def checar_vencedor(tabuleiro):\n",
    "    for linha in tabuleiro:\n",
    "        if linha[0] == linha[1] == linha[2] and linha[0] != '-':\n",
    "            return linha[0]\n",
    "    \n",
    "    for coluna in range(3):\n",
    "        if tabuleiro[0][coluna] == tabuleiro[1][coluna] == tabuleiro[2][coluna] != '-':\n",
    "            return tabuleiro[0][coluna]\n",
    "        \n",
    "    if tabuleiro[0][0] == tabuleiro[1][1] == tabuleiro[2][2] and tabuleiro[0][0] != '-':\n",
    "        return tabuleiro[0][0]\n",
    "    \n",
    "    if tabuleiro[0][2] == tabuleiro[1][1] == tabuleiro[2][0] and tabuleiro[0][2] != '-':\n",
    "        return tabuleiro[0][2]\n",
    "\n",
    "    return None\n",
    "\n",
    "def jogo():\n",
    "    tabuleiro = [['-' for j in range(3)] for i in range(3)]\n",
    "    jogadores = ['X', 'O']\n",
    "    jogador_atual = 0\n",
    "    num_movimentos = 0\n",
    "    \n",
    "    while True:\n",
    "        linha = np.random.randint(0, 3)\n",
    "        coluna = np.random.randint(0, 3)\n",
    "        \n",
    "        if tabuleiro[linha][coluna] == '-':\n",
    "            tabuleiro[linha][coluna] = jogadores[jogador_atual]\n",
    "            num_movimentos += 1\n",
    "            \n",
    "            vencedor = checar_vencedor(tabuleiro)\n",
    "            if vencedor is not None:\n",
    "                return vencedor\n",
    "            elif num_movimentos == 9:\n",
    "                return 'Empate'\n",
    "            \n",
    "            jogador_atual = (jogador_atual + 1) % 2\n",
    "            \n",
    "def jogo_da_velha_aleatorio(numero_de_tentativas = 100000):\n",
    "    resultados = {'X': 0, 'O': 0, 'Empate': 0}\n",
    "\n",
    "    for numero_de_tentativa in range(numero_de_tentativas):\n",
    "        resultado = jogo()\n",
    "        resultados[resultado] += 1\n",
    "\n",
    "    return resultados, numero_de_tentativas"
   ]
  },
  {
   "cell_type": "markdown",
   "metadata": {
    "id": "psZKODw_zLMj"
   },
   "source": [
    "a) Encontre uma aproximação para a probabilidade do jogo **não** terminar em empate. Tente encontrar uma justificativa intuitiva para sua resposta."
   ]
  },
  {
   "cell_type": "code",
   "execution_count": 29,
   "metadata": {
    "ExecuteTime": {
     "end_time": "2024-04-28T15:35:47.103279Z",
     "start_time": "2024-04-28T15:35:42.383644Z"
    }
   },
   "outputs": [
    {
     "name": "stdout",
     "output_type": "stream",
     "text": [
      "A probabilidade estimada de que o jogo não termine em empate é de aproximadamente 0.8724 ou 87.24%.\n"
     ]
    }
   ],
   "source": [
    "resultados, numero_de_tentativas = jogo_da_velha_aleatorio(numero_de_tentativas = 100000)\n",
    "\n",
    "probabilidade_estimada = (resultados['X'] + resultados['O']) / numero_de_tentativas\n",
    "\n",
    "print(f\"A probabilidade estimada de que o jogo não termine em empate é de aproximadamente {probabilidade_estimada:.4f} ou {probabilidade_estimada * 100:.2f}%.\")"
   ]
  },
  {
   "cell_type": "markdown",
   "metadata": {},
   "source": [
    "Com $100000$ tentativas, a probabilidade estimada de que o jogo não termine em empate é de aproximadamente $0.8726$ ou $87.26$%.\n",
    "\n",
    "Intuitivamente, a probabilidade de que o jogo não termine em empate é alta porque, ao contrário do jogo da velha tradicional, os jogadores não têm uma estratégia definida. \n",
    "\n",
    "Em vez disso, eles escolhem aleatoriamente as casas onde irão marcar. Isso significa que, em geral, o jogo terminará com um vencedor, pois é improvável que ambos os jogadores escolham as mesmas casas em cada rodada. \n",
    "\n",
    "Além disso, o empate só acontece na última jogada se nenhuma linha, coluna ou diagonal estiver completa, o que é um evento raro nesse contexto, dado que qualquer um dos jogadores pode vencer a qualquer momento."
   ]
  },
  {
   "cell_type": "markdown",
   "metadata": {
    "id": "2Vfan0FPzWfw"
   },
   "source": [
    "b) Dentre os jogos que não terminam empatados, qual jogador tem mais chances de ganhar, se ambos utilizam essa estratégia: o jogador que começa ou o segundo jogador? Tente encontrar uma justificativa intuitiva para sua resposta."
   ]
  },
  {
   "cell_type": "code",
   "execution_count": 30,
   "metadata": {},
   "outputs": [
    {
     "name": "stdout",
     "output_type": "stream",
     "text": [
      "A probabilidade estimada de que o primeiro jogador vença é de aproximadamente 0.5852 ou 58.52%.\n",
      "A probabilidade estimada de que o segundo jogador vença é de aproximadamente 0.2895 ou 28.95%.\n"
     ]
    }
   ],
   "source": [
    "resultados, numero_de_tentativas = jogo_da_velha_aleatorio(numero_de_tentativas = 100000)\n",
    "\n",
    "probabilidade_estimada = resultados['X'] / numero_de_tentativas;\n",
    "\n",
    "print(f\"A probabilidade estimada de que o primeiro jogador vença é de aproximadamente {probabilidade_estimada:.4f} ou {probabilidade_estimada * 100:.2f}%.\")\n",
    "\n",
    "probabilidade_estimada = resultados['O'] / numero_de_tentativas;\n",
    "\n",
    "print(f\"A probabilidade estimada de que o segundo jogador vença é de aproximadamente {probabilidade_estimada:.4f} ou {(probabilidade_estimada) * 100:.2f}%.\")"
   ]
  },
  {
   "cell_type": "markdown",
   "metadata": {},
   "source": [
    "Com $100000$ tentativas, a probabilidade estimada de que o jogador que começa ganhe o jogo é de aproximadamente $0.5852$ ou $58.52$%, enquanto a probabilidade estimada de que o segundo jogador ganhe o jogo é de aproximadamente $0.2895$ ou $28.95$%.\n",
    "\n",
    "Isso acontece pois o jogador que começa tem mais chances de ganhar, pois ele tem uma jogada a mais do que o segundo jogador.\n",
    "\n",
    "Para justificar essa afirmação, vamos considerar o seguinte cenário:\n",
    "\n",
    "- O jogador que começa escolhe uma casa aleatória para marcar $\\times$;\n",
    "- O segundo jogador escolhe uma casa aleatória para marcar $\\circ$;\n",
    "- O jogador que começa escolhe outra casa aleatória para marcar $\\times$.\n",
    "- ...\n",
    "- O segundo jogador escolhe a última casa disponível para marcar $\\circ$.\n",
    "- O jogador que começa escolhe a última casa disponível para marcar $\\times$.\n",
    "- O jogo termina.\n",
    "\n",
    "Como o jogador que começa tem uma jogada a mais do que o segundo jogador, ele tem mais chances de completar uma linha, coluna ou diagonal antes do segundo jogador, o que aumenta suas chances de ganhar o jogo."
   ]
  }
 ],
 "metadata": {
  "colab": {
   "provenance": []
  },
  "kernelspec": {
   "display_name": "Python 3 (ipykernel)",
   "language": "python",
   "name": "python3"
  },
  "language_info": {
   "codemirror_mode": {
    "name": "ipython",
    "version": 3
   },
   "file_extension": ".py",
   "mimetype": "text/x-python",
   "name": "python",
   "nbconvert_exporter": "python",
   "pygments_lexer": "ipython3",
   "version": "3.12.1"
  }
 },
 "nbformat": 4,
 "nbformat_minor": 4
}
