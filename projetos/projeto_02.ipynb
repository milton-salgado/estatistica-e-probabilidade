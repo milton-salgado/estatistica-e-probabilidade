{
 "cells": [
  {
   "cell_type": "markdown",
   "metadata": {},
   "source": [
    "# Estatística & Probabilidade - 2024/01\n",
    "\n",
    "## Projeto 02 - Cadeias de Markov\n",
    "\n",
    "### Hugo Tremonte de Carvalho\n",
    "\n",
    "#### hugo@dme.ufrj.br\n",
    "\n",
    "#### Google Classroom: `654q7wf`\n",
    "\n",
    "### Milton Salgado Leandro\n",
    "\n",
    "#### DRE: 122169279\n",
    "\n",
    "### Pedro Henrique Honorio Saito\n",
    "\n",
    "#### DRE: 122149392"
   ]
  },
  {
   "cell_type": "markdown",
   "metadata": {},
   "source": [
    "# ⚠️ INSTRUÇÕES ⚠️ LEIAM ATENTAMENTE! ⚠️"
   ]
  },
  {
   "cell_type": "markdown",
   "metadata": {},
   "source": [
    "### Instruções para Entrega do Projeto\n",
    "\n",
    "A data limite de entrega do projeto é segunda-feira, 23/06/2024, às 23h59. Avaliações entregues após esse prazo serão desconsideradas.\n",
    "\n",
    "- A entrega deve ser feita exclusivamente através do Google Classroom, e o projeto deve ser redigido na forma de um relatório incluindo os códigos. Para isso, use a linguagem Python dentro de um notebook do Google Colaboratory, a ser anexado na atividade da seguinte forma:\n",
    "\n",
    "  - Dentro da turma no Google Classroom, clique em \"Atividades\".\n",
    "\n",
    "  - No tema \"Projetos\", clique em \"Projeto 02\" e em seguida em \"Ver atividade\".\n",
    "\n",
    "  - No canto superior direito, clique em \"+ Adicionar ou criar\" e em seguida selecione \"Arquivo\" ou \"Google Drive\", se optar por fazer upload do notebook ou selecionar um arquivo de seu Google Drive, respectivamente.\n",
    "\n",
    "  - O título do notebook deverá ser, obrigatoriamente, \"SEU NOME - Projeto 02\".\n",
    "\n",
    "  - Para entregar o projeto, abra a atividade que o contém (conforme procedimento explicado no ponto acima), e no canto superior direito clique em \"ENTREGAR\" (o texto estará em uma caixa cinza, mas ele é clicável).\n",
    "\n",
    "  - Na tela a seguir, clique em \"Entregar\" para confirmar a entrega do trabalho.\n",
    "\n",
    "  - Se você se arrependeu e quiser fazer outra entrega, basta abrir a atividade, no canto superior direito clique em \"Cancelar envio\" e confirme clicando novamente em \"Cancelar envio\" na janela que irá abrir. Você pode fazer isso quantas vezes quiser até o prazo determinado.\n",
    "\n",
    "  - As explicações que você precisar fazer devem ser feitas em células de texto em seu notebook. Somente comentários pequenos devem ser feitos no código.\n",
    "\n",
    "  - Caso seja necessário, equações podem ser introduzidas em LaTeX nas células de texto.\n",
    "\n",
    "  - Figuras também podem ser incluídas em células de texto, tanto através de upload quanto simplesmente arrastando-a para alguma célula de texto. Nesse caso, sempre informe a fonte de onde a figura foi retirada.\n",
    "\n",
    "- A troca de conhecimento na realização da avaliação é permitida e encorajada: ciência se faz com colaboração, e devemos seguir esse espírito aqui. Porém, cada aluno(a) ou dupla deverá ter a sua própria resolução, e cópias ou outras ilegalidades serão severamente punidas com a anulação da avaliação para o(s) aluno(s) suspeito(s).\n",
    "\n",
    "- Todos os passos de sua resolução devem ser devidamente justificados.\n",
    "\n",
    "- Ao entregar essa avaliação, você afirma ter lido e estar de acordo com essas regras, comprometendo-se a cumpri-las.\n",
    "\n",
    "***"
   ]
  },
  {
   "cell_type": "markdown",
   "metadata": {},
   "source": [
    "# Projeto 2\n",
    "\n",
    "## Enunciado\n",
    "\n",
    "### Questão 1: Modelando \"Banco Imobiliário\" com Cadeia de Markov\n",
    "\n",
    "O objetivo do projeto é modelar uma ultra-simplificação do jogo \"Banco Imobiliário\" através de uma cadeia de Markov. Considere as seguintes regras:\n",
    "\n",
    "- O tabuleiro consiste em 40 casas, dispostas circularmente, enumeradas de 0 até 39. Após a casa 39, retorna-se à casa 0.\n",
    "\n",
    "- O jogador começa na casa de número 0, e o número de casas que ele irá andar, sempre no sentido crescente, é a soma do resultado obtido em dois lançamentos de um dado honesto de 6 faces.\n",
    "\n",
    "- A casa de número 20 é uma casa especial, denominada “prisão”. Caso o jogador caia nessa casa através da rolagem de dados, o jogo segue normalmente (chamamos esse caso de “visita à prisão”). Porém, o jogador pode ir preso se, a qualquer momento do jogo, nas rolagens dos dados ele obtiver uma sequência de três lançamentos com valores repetidos (chamemos esse caso de “ir preso”). Exemplos:\n",
    "\n",
    "  - Se o jogador está na casa de número 15 e obtém 2 + 3 na rolagem dos dados, ele irá somente visitar a prisão e seguirá jogando normalmente.\n",
    "\n",
    "  - Se o jogador está na casa de número 7, e obtém 4 + 4 na rolagem dos dados, ele deve lançá-los novamente. Caso obtenha valores distintos na nova rolagem, por exemplo, 4 + 6, ele irá para a casa de número 17 e o jogo segue normalmente. Mas caso obtenha valores iguais na nova rolagem, por exemplo, 5 + 5, uma nova rolagem deve ser feita. Se nessa nova rolagem valores distintos forem observados, segue o jogo, mas se valores iguais forem observados uma terceira vez, o jogador irá automaticamente para a prisão.\n",
    "\n",
    "- O jogador fica no máximo três rodadas na prisão, mas pode sair antes se obtiver valores repetidos no lançamento dos dados. Por exemplo:\n",
    "\n",
    "  - Imediatamente ao ir preso, o jogador lança o par de dados. Se ele obtiver valores iguais, por exemplo, 2 + 2, ele está imediatamente solto e lança o par de dados novamente para saber para qual casa ele irá, partindo da casa 20. Se ele obtiver valores diferentes, por exemplo, 2 + 5, ele lança novamente o par de dados: obtendo valores iguais está solto e obtendo valores diferentes continua preso. Neste último caso, ele passa mais uma rodada na prisão e em seguida é automaticamente solto, seguindo o jogo normalmente.\n",
    "\n",
    "- O jogador fica caminhando no tabuleiro indefinidamente de acordo com tais regras.\n",
    "\n",
    "Com base nisso, faça o que se pede abaixo:\n"
   ]
  },
  {
   "cell_type": "markdown",
   "metadata": {},
   "source": [
    "(a) Explique como o cenário acima descrito pode ser modelado por uma cadeia de Markov, descrevendo detalhadamente os estados de sua cadeia e exibindo a sua matriz de probabilidades de transição. Cada passo de sua construção deve ser descrito de forma detalhada."
   ]
  },
  {
   "cell_type": "markdown",
   "metadata": {},
   "source": [
    "### Resolução\n",
    "\n",
    "Primeiramente, antes de iniciar a modelagem, vamos definir quais estados do \"jogo imobiliário\" serão representados na modelagem da cadeia de Markov. Desse modo, temos os seguintes estados possíveis:\n",
    "\n",
    "- **Estado \"não-suspeito\"**: O jogador, até o momento, não realizou uma jogada em que ambos os lançamentos de dados foram iguais.\n",
    "\n",
    "- **Estado \"suspeito 1\"**: O jogador lançou uma par de dados com faces iguais. Nada além disso.\n",
    "\n",
    "- **Estado \"suspeito 2\"**: O jogador realizou dois lançamentos, não necessariamente consecutivos, em que caíram faces iguais dos dados.\n",
    "\n",
    "- **Estado \"prisioneiro\"**: O jogador realizou três lançamentos de dados com faces iguais.\n",
    "\n",
    "    - **Preso recém**: O jogador lançou novamente o par de dados, uma rodada após ser preso, e obteve dados iguais, sendo solto.\n",
    "\n",
    "    - **Preso em liberdade condicional**: O jogador ficou preso por 2 rodadas e, na terceira, realizou um lançamento com dados iguais, sendo solto. \n",
    "\n",
    "    - **Preso com prisão perpétua**: O jogador ficou preso por 3 rodadas, sendo solto.\n",
    "\n",
    "Nesse sentido, nossa matriz precisará comportar os estados possíveis do jogador. Desse modo, vamos segmentá-la da seguinte forma:\n",
    "\n",
    "- Linhas: Indicam o estado do usuário, bem como sua casa atual no tabuleiro.\n",
    "\n",
    "    - Primeiras 20 linhas $(0 \\to 19)$: Jogador se encontra no estado não suspeito.\n",
    "\n",
    "    - Linhas $(20 \\to 39)$: Jogador está no estágio 1 de suspeito.\n",
    "    \n",
    "    - Linhas $(40 \\to 59)$: Jogador está no estágio 2 de suspeito.\n",
    "    \n",
    "- Colunas: Indicam a probabilidade do jogador migrar para uma dada casa, considerando sua posição inicial.\n",
    "    \n",
    "    - Primeiras 20 colunas com $i \\in [0, 19]$: Probabilidade do jogador ir para a casa $i$, dada sua posição inicial e o estado de não suspeito.\n",
    "    \n",
    "    - Próximas 20 colunas $(20 \\to 39)$: Probabilidade do jogador passar para o estágio 1 de suspeito.\n",
    "    \n",
    "    - Próximas 20 colunas $(40 \\to 59)$: Probabilidade do jogador passar para o estágio 2 de suspeito.\n",
    "\n",
    "Feito isso tudo, podemos modelar a matriz da cadeia de Markov considerando então que a matriz nas primeiras 20 linhas e primeiras 20 colunas se repetirá um total de três vezes ao longo da matriz total $60\\times 60$.\n",
    "\n",
    "Por fim, devemos nos atentar nas últimas 20 linhas da matriz de probabilidade, uma vez que desejamos embutir a lógica da prisão nesses casos. Portanto, fizemos da seguinte forma:\n",
    "\n",
    "- Últimas 20 linhas e primeiras 20 colunas: Jogador transita do estágio 2 para o estágio 0, como faria normalmente nas outras linhas.\n",
    "\n",
    "- Últimas 20 linhas e segundas 20 colunas: Jogador é preso pela primeira vez, especificamente na coluna $30$, isto é, que corresponde ao índice $10$ nas segundas colunas.\n",
    "\n",
    "- Últimas 20 linhas e terceiras 20 colunas: Não atribuímos nenhum significado a esse campo e, portanto, deixamos vazio."
   ]
  },
  {
   "cell_type": "code",
   "execution_count": 2,
   "metadata": {},
   "outputs": [
    {
     "name": "stdout",
     "output_type": "stream",
     "text": [
      "[[0.    0.    0.    ... 0.    0.    0.   ]\n",
      " [0.    0.    0.    ... 0.    0.    0.   ]\n",
      " [0.    0.    0.    ... 0.    0.    0.   ]\n",
      " ...\n",
      " [0.056 0.056 0.111 ... 0.    0.    0.   ]\n",
      " [0.    0.056 0.056 ... 0.    0.    0.   ]\n",
      " [0.    0.    0.056 ... 0.    0.    0.   ]]\n",
      "[1. 1. 1. 1. 1. 1. 1. 1. 1. 1. 1. 1. 1. 1. 1. 1. 1. 1. 1. 1. 1. 1. 1. 1.\n",
      " 1. 1. 1. 1. 1. 1. 1. 1. 1. 1. 1. 1. 1. 1. 1. 1. 1. 1. 1. 1. 1. 1. 1. 1.\n",
      " 1. 1. 1. 1. 1. 1. 1. 1. 1. 1. 1. 1.]\n"
     ]
    }
   ],
   "source": [
    "import numpy as np\n",
    "\n",
    "# Inicializando a matriz 60x60 com zeros\n",
    "P = np.zeros((60, 60))\n",
    "\n",
    "# Probabilidades da soma no lançamento de dois dados diferentes\n",
    "probabilidades_diferentes = {\n",
    "    3: 2/36,\n",
    "    4: 2/36,\n",
    "    5: 4/36,\n",
    "    6: 4/36,\n",
    "    7: 6/36,\n",
    "    8: 4/36,\n",
    "    9: 4/36,\n",
    "    10: 2/36,\n",
    "    11: 2/36\n",
    "}\n",
    "\n",
    "# Função para determinar a próxima casa após rolar dois dados\n",
    "def next_house(i, roll):\n",
    "    return (i + roll) % 20\n",
    "\n",
    "# Primeiras 20 linhas (estados 0 a 19)\n",
    "for i in range(20):\n",
    "    for roll, prob in probabilidades_diferentes.items():\n",
    "        P[i, next_house(i, roll)] += prob\n",
    "    # Transição para o estágio 1 de suspeito\n",
    "    P[i, i + 20] = 1/6\n",
    "\n",
    "# Segundas 20 linhas (estados 20 a 39)\n",
    "for i in range(20, 40):\n",
    "    house = i - 20\n",
    "    for roll, prob in probabilidades_diferentes.items():\n",
    "        P[i, next_house(house, roll)] += prob\n",
    "    # Transição para o estágio 2 de suspeito\n",
    "    P[i, i + 20] = 1/6\n",
    "\n",
    "# Terceiras 20 linhas (estados 40 a 59)\n",
    "for i in range(40, 60):\n",
    "    house = i - 40\n",
    "    for roll, prob in probabilidades_diferentes.items():\n",
    "        P[i, next_house(house, roll)] += prob\n",
    "    P[i, 30] = 1/6\n",
    "    \n",
    "# Exibição da matriz\n",
    "np.set_printoptions(precision=3, suppress=True)\n",
    "print(P)\n",
    "\n",
    "print(P.sum(axis=1))"
   ]
  },
  {
   "cell_type": "markdown",
   "metadata": {},
   "source": [
    "Como podemos notar também, a soma de cada uma das linhas da matriz de transição é 1, confirmando uma das propriedades fundamentais da cadeia de Markov, garantindo que o estágio transita para algum estágio válido dentro do espaço de estados."
   ]
  },
  {
   "cell_type": "markdown",
   "metadata": {},
   "source": [
    "***"
   ]
  },
  {
   "cell_type": "markdown",
   "metadata": {},
   "source": [
    "b) Denote por $(X_t)_{t∈Z\\geq0}$ a posição do jogador no tabuleiro ao longo do tempo. Pelo item a), sabemos que essa sequência de variáveis aleatórias é descrita por uma cadeia de Markov. Construa um algoritmo para simular observações de tal cadeia, onde é possível controlar o número de iterações desejadas."
   ]
  },
  {
   "cell_type": "markdown",
   "metadata": {},
   "source": [
    "### Resolução\n",
    "\n",
    "Dada a variável aleatória $(X_t)\\;\\;\\forall\\;t\\in Z\\geq 0$, vamos realizar uma simulação da cadeia de Markov.\n",
    "\n",
    "Teremos um estágio inicial para o jogador, denotado por $v_i$, para o qual iremos simular o lançamento dos dois dados e as possíveis posições ao longo do tempo.\n",
    "\n",
    "Nesse sentido, vamos considerar o vetor $v_i$ como sendo o conjunto abaixo:\n",
    "\n",
    "- Casa atual do jogador no tabuleiro $(0 \\to 19)$.\n",
    "\n",
    "- Estágio de suspeito $(0 \\to 2)$\n",
    "\n",
    "- Quantidade de rodadas até ser liberado, começando em $3$ e decrementando até $0$.\n",
    "\n",
    "Nesse sentido, vamos simular o lançamento de um par de dados por meio da geração de um par de números \"aleatórios\" contidos no intervalo de $1$ a $6$ e incrementando os diferentes estágios e posições do jogador de acordo."
   ]
  },
  {
   "cell_type": "code",
   "execution_count": 3,
   "metadata": {},
   "outputs": [
    {
     "name": "stdout",
     "output_type": "stream",
     "text": [
      "resultados: [(0, 'Normal', 0), (7, 'Normal', 1), (7, 'Suspeito 1', 2), (7, 'Suspeito 2', 2), (13, 'Normal', 2), (18, 'Normal', 3), (6, 'Normal', 4), (16, 'Normal', 5), (3, 'Normal', 6), (10, 'Normal', 7), (1, 'Normal', 8), (7, 'Normal', 9), (12, 'Normal', 10), (15, 'Normal', 11), (0, 'Normal', 12), (0, 'Suspeito 1', 13), (0, 'Suspeito 2', 13), (3, 'Normal', 13), (12, 'Normal', 14), (19, 'Normal', 15), (6, 'Normal', 16), (10, 'Normal', 17), (18, 'Normal', 18), (6, 'Normal', 19), (6, 'Suspeito 1', 20), (14, 'Normal', 20), (1, 'Normal', 21), (8, 'Normal', 22), (11, 'Normal', 23), (19, 'Normal', 24), (4, 'Normal', 25), (8, 'Normal', 26), (13, 'Normal', 27), (0, 'Normal', 28), (7, 'Normal', 29), (15, 'Normal', 30), (15, 'Suspeito 1', 31), (19, 'Normal', 31), (7, 'Normal', 32), (16, 'Normal', 33), (2, 'Normal', 34), (7, 'Normal', 35), (16, 'Normal', 36), (7, 'Normal', 37), (13, 'Normal', 38), (13, 'Suspeito 1', 39), (3, 'Normal', 39), (7, 'Normal', 40), (18, 'Normal', 41), (3, 'Normal', 42), (8, 'Normal', 43), (17, 'Normal', 44), (0, 'Normal', 45), (5, 'Normal', 46), (11, 'Normal', 47), (11, 'Suspeito 1', 48), (18, 'Normal', 48), (5, 'Normal', 49), (11, 'Normal', 50), (18, 'Normal', 51), (6, 'Normal', 52), (15, 'Normal', 53), (15, 'Suspeito 1', 54), (2, 'Normal', 54), (10, 'Normal', 55), (16, 'Normal', 56), (3, 'Normal', 57), (9, 'Normal', 58), (18, 'Normal', 59), (3, 'Normal', 60), (8, 'Normal', 61), (14, 'Normal', 62), (3, 'Normal', 63), (3, 'Suspeito 1', 64), (8, 'Normal', 64), (8, 'Suspeito 1', 65), (13, 'Normal', 65), (0, 'Normal', 66), (8, 'Normal', 67), (13, 'Normal', 68), (4, 'Normal', 69), (13, 'Normal', 70), (1, 'Normal', 71), (12, 'Normal', 72), (3, 'Normal', 73), (8, 'Normal', 74), (8, 'Suspeito 1', 75), (15, 'Normal', 75), (2, 'Normal', 76), (9, 'Normal', 77), (9, 'Suspeito 1', 78), (16, 'Normal', 78), (16, 'Suspeito 1', 79), (2, 'Normal', 79), (10, 'Normal', 80), (15, 'Normal', 81), (15, 'Suspeito 1', 82), (1, 'Normal', 82), (4, 'Normal', 83), (14, 'Normal', 84)]\n",
      " rodada: 132\n"
     ]
    }
   ],
   "source": [
    "import random as rd\n",
    "\n",
    "# Função que rola os dados de uma partida e retorna os 2 lançamentos.\n",
    "def joga_dados():\n",
    "    return rd.randint(1, 6), rd.randint(1, 6)\n",
    "\n",
    "# Função para retornar o estado do jogador como string\n",
    "def estado_suspeito(status_suspeito):\n",
    "    estados = [\"Normal\", \"Suspeito 1\", \"Suspeito 2\", \"Preso\"]\n",
    "    return estados[status_suspeito]\n",
    "\n",
    "def jogo(n_repeticoes):\n",
    "    \"\"\"\n",
    "    Função que administra o jogo Banco Imobiliário.\n",
    "    Recebe como parâmetro um inteiro que representa quantas iterações o jogo terá.\n",
    "    \"\"\"\n",
    "    xt = [(0, \"Normal\", 0)]  # Posição inicial, estado inicial (Normal), e número da rodada inicial\n",
    "    status_suspeito = 0\n",
    "    rodada = 0\n",
    "    rodada_primeira_prisao = None\n",
    "\n",
    "    while n_repeticoes:\n",
    "        dado1, dado2 = joga_dados()\n",
    "        pos_atual, _, _ = xt[-1]\n",
    "        rodada += 1\n",
    "\n",
    "        while dado1 == dado2:\n",
    "            status_suspeito += 1\n",
    "            if status_suspeito == 3:  # Preso após três lançamentos iguais consecutivos\n",
    "                xt.append((10, \"Preso\", rodada))\n",
    "                if rodada_primeira_prisao is None:\n",
    "                    rodada_primeira_prisao = rodada\n",
    "                for _ in range(3):  # Três tentativas para sair da prisão\n",
    "                    dado1, dado2 = joga_dados()\n",
    "                    rodada += 1\n",
    "                    if dado1 == dado2:  # Sai da prisão\n",
    "                        pos_atual = 10\n",
    "                        xt.append(((pos_atual + dado1 + dado2) % 20, \"Normal\", rodada))\n",
    "                        break\n",
    "                    else:\n",
    "                        xt.append((10, \"Preso\", rodada))  # Continua na prisão\n",
    "                status_suspeito = 0  # Reseta o status de suspeito após sair ou cumprir as rodadas na prisão\n",
    "                break\n",
    "            else:\n",
    "                xt.append((pos_atual, estado_suspeito(status_suspeito), rodada))\n",
    "                dado1, dado2 = joga_dados()  # Rolar novamente os dados\n",
    "        \n",
    "        if status_suspeito < 3:\n",
    "            xt.append(((pos_atual + dado1 + dado2) % 20, \"Normal\", rodada))\n",
    "            status_suspeito = 0  # Reseta o status de suspeito se não tirar números iguais\n",
    "\n",
    "        n_repeticoes -= 1\n",
    "\n",
    "    return xt, rodada_primeira_prisao\n",
    "\n",
    "\n",
    "n_repeticoes = 10000\n",
    "resultados, rodada_primeira = jogo(n_repeticoes)\n",
    "print(f\"resultados: {resultados[:100]}\\n rodada: {rodada_primeira}\")"
   ]
  },
  {
   "cell_type": "markdown",
   "metadata": {},
   "source": []
  },
  {
   "cell_type": "markdown",
   "metadata": {},
   "source": [
    "***"
   ]
  },
  {
   "cell_type": "markdown",
   "metadata": {},
   "source": [
    "c) Seja $Y$ a variável aleatória que representa a quantidade de passos que o jogador dá até a sua primeira prisão (tome cuidado, não é a primeira \"visita à prisão\"!). Obtenha uma aproximação para o valor esperado de $Y$, através de sucessivas simulações da cadeia usando o algoritmo construído no item b). Descreva detalhadamente o seu procedimento para realizar tal aproximação."
   ]
  },
  {
   "cell_type": "markdown",
   "metadata": {},
   "source": [
    "### Resolução\n",
    "\n"
   ]
  },
  {
   "cell_type": "code",
   "execution_count": 4,
   "metadata": {},
   "outputs": [
    {
     "name": "stdout",
     "output_type": "stream",
     "text": [
      "Média da rodada da primeira prisão: 213.8628\n"
     ]
    }
   ],
   "source": [
    "def media_primeira_prisao(n_experimentos, n_repeticoes):\n",
    "    \"\"\"\n",
    "    Função que calcula a média da rodada da primeira prisão em múltiplos experimentos.\n",
    "    \"\"\"\n",
    "    soma_rodadas_primeira_prisao = 0\n",
    "    contador_rodadas_validas = 0\n",
    "\n",
    "    for _ in range(n_experimentos):\n",
    "        _, rodada_primeira_prisao = jogo(n_repeticoes)\n",
    "        if rodada_primeira_prisao is not None:\n",
    "            soma_rodadas_primeira_prisao += rodada_primeira_prisao\n",
    "            contador_rodadas_validas += 1\n",
    "\n",
    "    if contador_rodadas_validas == 0:\n",
    "        return None  # Evita divisão por zero se nenhum experimento resultou em prisão\n",
    "\n",
    "    return soma_rodadas_primeira_prisao / contador_rodadas_validas\n",
    "\n",
    "n_experimentos = 10000\n",
    "media_rodada_primeira_prisao = media_primeira_prisao(n_experimentos, n_repeticoes)\n",
    "print(f\"Média da rodada da primeira prisão: {media_rodada_primeira_prisao}\")"
   ]
  },
  {
   "cell_type": "markdown",
   "metadata": {},
   "source": [
    "d) Justifique matematicamente porque o procedimento realizado no item c) funciona para aproximar o valor esperado de $Y$."
   ]
  },
  {
   "cell_type": "markdown",
   "metadata": {},
   "source": [
    "### Justificativa Matemática para o Procedimento de Aproximação do Valor Esperado de $Y$\n",
    "\n",
    "O procedimento realizado no item c) para estimar o valor esperado de $Y$, que representa a quantidade de passos até a primeira prisão, é fundamentado no conceito de média de amostras obtidas por simulações da cadeia de Markov. Vamos justificar matematicamente por que esse procedimento funciona para aproximar o valor esperado de $Y$, considerando o código utilizado para obter a quantidade de passos até a primeira prisão.\n",
    "\n",
    "#### Definição de $Y$\n",
    "\n",
    "- $Y$ é a variável aleatória que representa o número de passos até a primeira prisão na cadeia de Markov.\n",
    "\n",
    "#### Esperança de $Y$\n",
    "\n",
    "- A esperança de $Y$, denotada por $\\mathbb{E}[Y]$, é o valor médio de $Y$ ao longo de múltiplas simulações da cadeia de Markov.\n",
    "\n",
    "#### Simulações da Cadeia de Markov\n",
    "\n",
    "O código realiza as seguintes etapas para simular a cadeia de Markov até a primeira prisão e calcular a média de passos:\n",
    "\n",
    "1. **Função `jogo`**:\n",
    "    - Esta função simula o jogo até o jogador ser preso pela primeira vez. \n",
    "    - O jogador começa na posição inicial com o estado \"Normal\".\n",
    "    - A cada rodada, os dados são lançados e a posição e o estado do jogador são atualizados.\n",
    "    - Se o jogador tira números iguais três vezes consecutivas, ele é preso e a função lida com as tentativas de sair da prisão.\n",
    "    - A função retorna a lista de estados (`xt`) e a rodada da primeira prisão (`rodada_primeira_prisao`).\n",
    "\n",
    "2. **Função `media_primeira_prisao`**:\n",
    "    - Esta função realiza múltiplas simulações (denotadas por `n_experimentos`) do jogo.\n",
    "    - Em cada simulação, ela chama a função `jogo` para obter a rodada da primeira prisão.\n",
    "    - A função soma o total de rodadas da primeira prisão de todas as simulações e calcula a média das rodadas.\n",
    "\n",
    "#### Lei dos Grandes Números\n",
    "\n",
    "A Lei dos Grandes Números é um princípio fundamental na teoria das probabilidades, que pode ser enunciado da seguinte forma:\n",
    "\n",
    "- Se realizarmos um grande número de simulações independentes de uma variável aleatória, a média dos resultados dessas simulações convergirá para o valor esperado da variável.\n",
    "\n",
    "Aplicando isso ao nosso caso:\n",
    "\n",
    "- As simulações realizadas pela função `media_primeira_prisao(n_experimentos, n_repeticoes)` são independentes e seguem a mesma distribuição.\n",
    "- À medida que o número de simulações ($n_{simulacoes}$) aumenta, a média dos valores de rodadas até a primeira prisão obtidos nas simulações converge para $\\mathbb{E}[Y]$.\n",
    "\n",
    "#### Aplicação na Estimação de $\\mathbb{E}[Y]$\n",
    "\n",
    "- No procedimento descrito no item c), realizamos um número grande de simulações da cadeia de Markov (denotado por `n_experimentos`).\n",
    "- Em cada simulação, calculamos a rodada até a primeira prisão e armazenamos esses valores.\n",
    "- A média desses valores é então calculada para obter a estimativa do valor esperado de $Y$.\n",
    "\n",
    "#### Convergência para $\\mathbb{E}[Y]$\n",
    "\n",
    "- Pela Lei dos Grandes Números, à medida que `n_experimentos` tende ao infinito, a média dos valores obtidos nas simulações converge para $\\mathbb{E}[Y]$.\n",
    "- Portanto, o procedimento de estimar $\\mathbb{E}[Y]$ por simulações sucessivas da cadeia de Markov é válido e eficaz para aproximar o valor esperado de $Y$.\n",
    "\n",
    "### Conclusão\n",
    "\n",
    "O procedimento funciona porque as simulações repetidas da cadeia de Markov fornecem uma amostra dos valores possíveis de $Y$. Ao calcular a média desses valores, estamos usando a propriedade estatística de que a média amostral converge para a esperança da variável aleatória quando o número de observações (simulações) é grande o suficiente. Dessa forma, podemos confiar na estimativa obtida através das simulações para aproximar o valor esperado de $Y$."
   ]
  },
  {
   "cell_type": "markdown",
   "metadata": {},
   "source": [
    "e) Seja $Z$ a variável aleatória que representa a posição do jogador no tabuleiro após transcorrido um tempo suficientemente longo, ou seja, $X_t$ quando $t \\to \\infty$. Encontre a função massa de probabilidade de $Z$. Em média, em qual casa o jogador passa mais tempo? Discuta os resultados obtidos."
   ]
  },
  {
   "cell_type": "code",
   "execution_count": 9,
   "metadata": {},
   "outputs": [
    {
     "name": "stdout",
     "output_type": "stream",
     "text": [
      "Distribuição estacionária: [0.05  0.05  0.05  0.05  0.05  0.05  0.05  0.05  0.05  0.05  0.054 0.049\n",
      " 0.049 0.05  0.05  0.05  0.05  0.05  0.05  0.05 ]\n",
      "Casa onde o jogador passa mais tempo: 10 com probabilidade 0.0542\n"
     ]
    }
   ],
   "source": [
    "# Resolver o sistema πP = π\n",
    "valores, vetores = np.linalg.eig(P.T)\n",
    "vetor_estacionario = np.real(vetores[:, np.isclose(valores, 1)])\n",
    "vetor_estacionario = vetor_estacionario / vetor_estacionario.sum()\n",
    "vetor_estacionario = vetor_estacionario[:, 0]\n",
    "\n",
    "# Distribuição estacionária para as 20 casas\n",
    "distribuicao_estacionaria = vetor_estacionario[:20] + vetor_estacionario[20:40] + vetor_estacionario[40:60]\n",
    "\n",
    "# Casa onde o jogador passa mais tempo\n",
    "casa_mais_tempo = np.argmax(distribuicao_estacionaria)\n",
    "tempo_medio = distribuicao_estacionaria[casa_mais_tempo]\n",
    "\n",
    "print(f\"Distribuição estacionária: {distribuicao_estacionaria}\")\n",
    "print(f\"Casa onde o jogador passa mais tempo: {casa_mais_tempo} com probabilidade {tempo_medio:.4f}\")"
   ]
  },
  {
   "cell_type": "markdown",
   "metadata": {},
   "source": [
    "Podemos analisar o resultado da distribuição estacionária por meio da utilização de gráfico de barras da seguinte forma:"
   ]
  },
  {
   "cell_type": "code",
   "execution_count": 10,
   "metadata": {},
   "outputs": [
    {
     "data": {
      "image/png": "[encoded data removed]",
      "text/plain": [
       "<Figure size 1000x600 with 1 Axes>"
      ]
     },
     "metadata": {},
     "output_type": "display_data"
    }
   ],
   "source": [
    "import matplotlib.pyplot as plt\n",
    "\n",
    "# Plotar o gráfico da distribuição estacionária\n",
    "plt.figure(figsize=(10, 6))\n",
    "plt.bar(range(20), distribuicao_estacionaria, color='blue', alpha=0.7)\n",
    "plt.xlabel('Casa')\n",
    "plt.ylabel('Probabilidade Estacionária')\n",
    "plt.title('Distribuição Estacionária das Casas no Tabuleiro')\n",
    "plt.xticks(range(20))\n",
    "plt.grid(True)\n",
    "plt.show()"
   ]
  },
  {
   "cell_type": "markdown",
   "metadata": {},
   "source": []
  }
 ],
 "metadata": {
  "kernelspec": {
   "display_name": "Python 3 (ipykernel)",
   "language": "python",
   "name": "python3"
  },
  "language_info": {
   "codemirror_mode": {
    "name": "ipython",
    "version": 3
   },
   "file_extension": ".py",
   "mimetype": "text/x-python",
   "name": "python",
   "nbconvert_exporter": "python",
   "pygments_lexer": "ipython3",
   "version": "3.12.1"
  }
 },
 "nbformat": 4,
 "nbformat_minor": 4
}
