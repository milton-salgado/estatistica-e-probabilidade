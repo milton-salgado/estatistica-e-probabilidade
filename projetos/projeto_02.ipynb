{
 "cells": [
  {
   "cell_type": "markdown",
   "metadata": {},
   "source": [
    "# Estatística & Probabilidade - 2024/01\n",
    "\n",
    "## Projeto 02 - Cadeias de Markov\n",
    "\n",
    "### Hugo Tremonte de Carvalho\n",
    "\n",
    "#### hugo@dme.ufrj.br\n",
    "\n",
    "#### Google Classroom: `654q7wf`\n",
    "\n",
    "### Milton Salgado Leandro\n",
    "\n",
    "#### DRE: 122169279\n",
    "\n",
    "### Pedro Henrique Honorio Saito\n",
    "\n",
    "#### DRE: 122149392"
   ]
  },
  {
   "cell_type": "markdown",
   "metadata": {},
   "source": [
    "# ⚠️ INSTRUÇÕES ⚠️ LEIAM ATENTAMENTE! ⚠️"
   ]
  },
  {
   "cell_type": "markdown",
   "metadata": {},
   "source": [
    "### Instruções para Entrega do Projeto\n",
    "\n",
    "A data limite de entrega do projeto é segunda-feira, 23/06/2024, às 23h59. Avaliações entregues após esse prazo serão desconsideradas.\n",
    "\n",
    "- A entrega deve ser feita exclusivamente através do Google Classroom, e o projeto deve ser redigido na forma de um relatório incluindo os códigos. Para isso, use a linguagem Python dentro de um notebook do Google Colaboratory, a ser anexado na atividade da seguinte forma:\n",
    "\n",
    "  - Dentro da turma no Google Classroom, clique em \"Atividades\".\n",
    "\n",
    "  - No tema \"Projetos\", clique em \"Projeto 02\" e em seguida em \"Ver atividade\".\n",
    "\n",
    "  - No canto superior direito, clique em \"+ Adicionar ou criar\" e em seguida selecione \"Arquivo\" ou \"Google Drive\", se optar por fazer upload do notebook ou selecionar um arquivo de seu Google Drive, respectivamente.\n",
    "\n",
    "  - O título do notebook deverá ser, obrigatoriamente, \"SEU NOME - Projeto 02\".\n",
    "\n",
    "  - Para entregar o projeto, abra a atividade que o contém (conforme procedimento explicado no ponto acima), e no canto superior direito clique em \"ENTREGAR\" (o texto estará em uma caixa cinza, mas ele é clicável).\n",
    "\n",
    "  - Na tela a seguir, clique em \"Entregar\" para confirmar a entrega do trabalho.\n",
    "\n",
    "  - Se você se arrependeu e quiser fazer outra entrega, basta abrir a atividade, no canto superior direito clique em \"Cancelar envio\" e confirme clicando novamente em \"Cancelar envio\" na janela que irá abrir. Você pode fazer isso quantas vezes quiser até o prazo determinado.\n",
    "\n",
    "  - As explicações que você precisar fazer devem ser feitas em células de texto em seu notebook. Somente comentários pequenos devem ser feitos no código.\n",
    "\n",
    "  - Caso seja necessário, equações podem ser introduzidas em LaTeX nas células de texto.\n",
    "\n",
    "  - Figuras também podem ser incluídas em células de texto, tanto através de upload quanto simplesmente arrastando-a para alguma célula de texto. Nesse caso, sempre informe a fonte de onde a figura foi retirada.\n",
    "\n",
    "- A troca de conhecimento na realização da avaliação é permitida e encorajada: ciência se faz com colaboração, e devemos seguir esse espírito aqui. Porém, cada aluno(a) ou dupla deverá ter a sua própria resolução, e cópias ou outras ilegalidades serão severamente punidas com a anulação da avaliação para o(s) aluno(s) suspeito(s).\n",
    "\n",
    "- Todos os passos de sua resolução devem ser devidamente justificados.\n",
    "\n",
    "- Ao entregar essa avaliação, você afirma ter lido e estar de acordo com essas regras, comprometendo-se a cumpri-las.\n",
    "\n",
    "***"
   ]
  },
  {
   "cell_type": "markdown",
   "metadata": {},
   "source": [
    "# Projeto 2\n",
    "\n",
    "## Enunciado\n",
    "\n",
    "### Questão 1: Modelando \"Banco Imobiliário\" com Cadeia de Markov\n",
    "\n",
    "O objetivo do projeto é modelar uma ultra-simplificação do jogo \"Banco Imobiliário\" através de uma cadeia de Markov. Considere as seguintes regras:\n",
    "\n",
    "- O tabuleiro consiste em 40 casas, dispostas circularmente, enumeradas de 0 até 39. Após a casa 39, retorna-se à casa 0.\n",
    "\n",
    "- O jogador começa na casa de número 0, e o número de casas que ele irá andar, sempre no sentido crescente, é a soma do resultado obtido em dois lançamentos de um dado honesto de 6 faces.\n",
    "\n",
    "- A casa de número 20 é uma casa especial, denominada “prisão”. Caso o jogador caia nessa casa através da rolagem de dados, o jogo segue normalmente (chamamos esse caso de “visita à prisão”). Porém, o jogador pode ir preso se, a qualquer momento do jogo, nas rolagens dos dados ele obtiver uma sequência de três lançamentos com valores repetidos (chamemos esse caso de “ir preso”). Exemplos:\n",
    "\n",
    "  - Se o jogador está na casa de número 15 e obtém 2 + 3 na rolagem dos dados, ele irá somente visitar a prisão e seguirá jogando normalmente.\n",
    "\n",
    "  - Se o jogador está na casa de número 7, e obtém 4 + 4 na rolagem dos dados, ele deve lançá-los novamente. Caso obtenha valores distintos na nova rolagem, por exemplo, 4 + 6, ele irá para a casa de número 17 e o jogo segue normalmente. Mas caso obtenha valores iguais na nova rolagem, por exemplo, 5 + 5, uma nova rolagem deve ser feita. Se nessa nova rolagem valores distintos forem observados, segue o jogo, mas se valores iguais forem observados uma terceira vez, o jogador irá automaticamente para a prisão.\n",
    "\n",
    "- O jogador fica no máximo três rodadas na prisão, mas pode sair antes se obtiver valores repetidos no lançamento dos dados. Por exemplo:\n",
    "\n",
    "  - Imediatamente ao ir preso, o jogador lança o par de dados. Se ele obtiver valores iguais, por exemplo, 2 + 2, ele está imediatamente solto e lança o par de dados novamente para saber para qual casa ele irá, partindo da casa 20. Se ele obtiver valores diferentes, por exemplo, 2 + 5, ele lança novamente o par de dados: obtendo valores iguais está solto e obtendo valores diferentes continua preso. Neste último caso, ele passa mais uma rodada na prisão e em seguida é automaticamente solto, seguindo o jogo normalmente.\n",
    "\n",
    "- O jogador fica caminhando no tabuleiro indefinidamente de acordo com tais regras.\n",
    "\n",
    "Com base nisso, faça o que se pede abaixo:\n"
   ]
  },
  {
   "cell_type": "markdown",
   "metadata": {},
   "source": []
  }
 ],
 "metadata": {
  "kernelspec": {
   "display_name": "Python 3",
   "language": "python",
   "name": "python3"
  },
  "language_info": {
   "name": "python",
   "version": "3.12.3"
  }
 },
 "nbformat": 4,
 "nbformat_minor": 2
}
